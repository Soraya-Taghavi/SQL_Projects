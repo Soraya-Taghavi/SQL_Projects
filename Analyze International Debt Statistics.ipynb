{
 "cells": [
  {
   "source": [
    "![](image.jpg)\n",
    "\n",
    "It's not that we humans only take debts to manage our necessities. A country may also take debt to manage its economy. For example, infrastructure spending is one costly ingredient required for a country's citizens to lead comfortable lives. [The World Bank](https://www.worldbank.org) is the organization that provides debt to countries.\n",
    "\n",
    "In this notebook, we are going to analyze international debt data collected by The World Bank. The dataset contains information about the amount of debt (in USD) owed by developing countries across several categories. We are going to find the answers to questions like: \n",
    "\n",
    "- What is the total amount of debt that is owed by the countries listed in the dataset?\n",
    "- Which country owes the maximum amount of debt and what does that amount look like?\n",
    "- What is the average amount of debt owed by countries across different debt indicators?\n",
    "\n",
    "Below is a basic schema of the database you will be working with:\n",
    "\n",
    "## `debt_indicators` table\n",
    "\n",
    "| Column | Definition | Data Type |\n",
    "|-|-|-|\n",
    "|country_name|Name of the country|`varchar`|\n",
    "|country_code|Code representing the country|`varchar`|\n",
    "|indicator_name|Description of the debt indicator|`varchar`|\n",
    "|indicator_code|Code representing the debt indicator|`varchar`|\n",
    "|debt|Value of the debt indicator for the given country (in current US dollars)|`float`|\n",
    "\n",
    "You will execute SQL queries to answer six questions, as listed in the instructions."
   ],
   "metadata": {},
   "id": "9041cd2e-a5a6-44dd-acd9-4daae006c067",
   "cell_type": "markdown"
  },
  {
   "source": [
    "--What is the number of distinct countries present in the database? The output should be single column aliased with the following name: total_distinct_countries.--\n",
    "SELECT \n",
    "\tCOUNT(DISTINCT(country_name)) AS total_distinct_countries\n",
    "FROM\n",
    "\tinternational_debt;"
   ],
   "metadata": {
    "customType": "sql",
    "dataFrameVariableName": "num_distinct_countries",
    "sqlCellMode": "dataFrame",
    "sqlSource": {
     "integrationId": "89e17161-a224-4a8a-846b-0adc0fe7a4b1",
     "integrationType": "postgresql",
     "type": "integration"
    },
    "executionCancelledAt": null,
    "executionTime": 5705,
    "lastExecutedAt": 1712390233929,
    "lastScheduledRunId": null,
    "lastSuccessfullyExecutedCode": "--What is the number of distinct countries present in the database? The output should be single column aliased with the following name: total_distinct_countries.--\nSELECT \n\tCOUNT(DISTINCT(country_name)) AS total_distinct_countries\nFROM\n\tinternational_debt;",
    "lastExecutedByKernel": "6ec5edc5-1981-4829-b2f3-f89c8344e66e",
    "outputsMetadata": {
     "0": {
      "height": 96,
      "type": "dataFrame"
     }
    }
   },
   "id": "63ae86de-f519-4736-a9ab-886f71129cf3",
   "cell_type": "code",
   "execution_count": 37,
   "outputs": [
    {
     "output_type": "execute_result",
     "data": {
      "application/com.datacamp.data-table.v2+json": {
       "table": {
        "schema": {
         "fields": [
          {
           "name": "index",
           "type": "integer"
          },
          {
           "name": "total_distinct_countries",
           "type": "integer"
          }
         ],
         "primaryKey": [
          "index"
         ],
         "pandas_version": "1.4.0"
        },
        "data": {
         "index": [
          0
         ],
         "total_distinct_countries": [
          124
         ]
        }
       },
       "total_rows": 1,
       "truncation_type": null
      },
      "text/plain": "   total_distinct_countries\n0                       124",
      "text/html": "<div>\n<style scoped>\n    .dataframe tbody tr th:only-of-type {\n        vertical-align: middle;\n    }\n\n    .dataframe tbody tr th {\n        vertical-align: top;\n    }\n\n    .dataframe thead th {\n        text-align: right;\n    }\n</style>\n<table border=\"1\" class=\"dataframe\">\n  <thead>\n    <tr style=\"text-align: right;\">\n      <th></th>\n      <th>total_distinct_countries</th>\n    </tr>\n  </thead>\n  <tbody>\n    <tr>\n      <th>0</th>\n      <td>124</td>\n    </tr>\n  </tbody>\n</table>\n</div>"
     },
     "metadata": {},
     "execution_count": 37,
     "@datacamp/metadata": {
      "executedQuery": "--What is the number of distinct countries present in the database\\? The output should be single column aliased with the following name: total_distinct_countries.--\nSELECT \n\tCOUNT(DISTINCT(country_name)) AS total_distinct_countries\nFROM\n\tinternational_debt;",
      "executedQueryParameters": []
     }
    }
   ]
  },
  {
   "source": [
    "--What are the distinct debt indicators? The output column should be aliased as distinct_debt_indicators and the outputs should be ordered by it.--\n",
    "\n",
    "SELECT\n",
    "\tDISTINCT(indicator_code) AS distinct_debt_indicators\n",
    "FROM\n",
    "\tinternational_debt\n",
    "ORDER BY\n",
    "\tdistinct_debt_indicators;"
   ],
   "metadata": {
    "customType": "sql",
    "dataFrameVariableName": "distinct_debt_indicators",
    "sqlCellMode": "dataFrame",
    "sqlSource": {
     "integrationId": "89e17161-a224-4a8a-846b-0adc0fe7a4b1",
     "integrationType": "postgresql",
     "type": "integration"
    },
    "executionCancelledAt": null,
    "executionTime": 1051,
    "lastExecutedAt": 1712390234980,
    "lastScheduledRunId": null,
    "lastSuccessfullyExecutedCode": "--What are the distinct debt indicators? The output column should be aliased as distinct_debt_indicators and the outputs should be ordered by it.--\n\nSELECT\n\tDISTINCT(indicator_code) AS distinct_debt_indicators\nFROM\n\tinternational_debt\nORDER BY\n\tdistinct_debt_indicators;",
    "lastExecutedByKernel": "6ec5edc5-1981-4829-b2f3-f89c8344e66e",
    "outputsMetadata": {
     "0": {
      "height": 349,
      "type": "dataFrame"
     }
    }
   },
   "id": "52e80fbc-fac4-4456-8c42-c958f79dc8bc",
   "cell_type": "code",
   "execution_count": 38,
   "outputs": [
    {
     "output_type": "execute_result",
     "data": {
      "application/com.datacamp.data-table.v2+json": {
       "table": {
        "schema": {
         "fields": [
          {
           "name": "index",
           "type": "integer"
          },
          {
           "name": "distinct_debt_indicators",
           "type": "string"
          }
         ],
         "primaryKey": [
          "index"
         ],
         "pandas_version": "1.4.0"
        },
        "data": {
         "index": [
          0,
          1,
          2,
          3,
          4,
          5,
          6,
          7,
          8,
          9,
          10,
          11,
          12,
          13,
          14,
          15,
          16,
          17,
          18,
          19,
          20,
          21,
          22,
          23,
          24
         ],
         "distinct_debt_indicators": [
          "DT.AMT.BLAT.CD",
          "DT.AMT.DLXF.CD",
          "DT.AMT.DPNG.CD",
          "DT.AMT.MLAT.CD",
          "DT.AMT.OFFT.CD",
          "DT.AMT.PBND.CD",
          "DT.AMT.PCBK.CD",
          "DT.AMT.PROP.CD",
          "DT.AMT.PRVT.CD",
          "DT.DIS.BLAT.CD",
          "DT.DIS.DLXF.CD",
          "DT.DIS.MLAT.CD",
          "DT.DIS.OFFT.CD",
          "DT.DIS.PCBK.CD",
          "DT.DIS.PROP.CD",
          "DT.DIS.PRVT.CD",
          "DT.INT.BLAT.CD",
          "DT.INT.DLXF.CD",
          "DT.INT.DPNG.CD",
          "DT.INT.MLAT.CD",
          "DT.INT.OFFT.CD",
          "DT.INT.PBND.CD",
          "DT.INT.PCBK.CD",
          "DT.INT.PROP.CD",
          "DT.INT.PRVT.CD"
         ]
        }
       },
       "total_rows": 25,
       "truncation_type": null
      },
      "text/plain": "   distinct_debt_indicators\n0            DT.AMT.BLAT.CD\n1            DT.AMT.DLXF.CD\n2            DT.AMT.DPNG.CD\n3            DT.AMT.MLAT.CD\n4            DT.AMT.OFFT.CD\n5            DT.AMT.PBND.CD\n6            DT.AMT.PCBK.CD\n7            DT.AMT.PROP.CD\n8            DT.AMT.PRVT.CD\n9            DT.DIS.BLAT.CD\n10           DT.DIS.DLXF.CD\n11           DT.DIS.MLAT.CD\n12           DT.DIS.OFFT.CD\n13           DT.DIS.PCBK.CD\n14           DT.DIS.PROP.CD\n15           DT.DIS.PRVT.CD\n16           DT.INT.BLAT.CD\n17           DT.INT.DLXF.CD\n18           DT.INT.DPNG.CD\n19           DT.INT.MLAT.CD\n20           DT.INT.OFFT.CD\n21           DT.INT.PBND.CD\n22           DT.INT.PCBK.CD\n23           DT.INT.PROP.CD\n24           DT.INT.PRVT.CD",
      "text/html": "<div>\n<style scoped>\n    .dataframe tbody tr th:only-of-type {\n        vertical-align: middle;\n    }\n\n    .dataframe tbody tr th {\n        vertical-align: top;\n    }\n\n    .dataframe thead th {\n        text-align: right;\n    }\n</style>\n<table border=\"1\" class=\"dataframe\">\n  <thead>\n    <tr style=\"text-align: right;\">\n      <th></th>\n      <th>distinct_debt_indicators</th>\n    </tr>\n  </thead>\n  <tbody>\n    <tr>\n      <th>0</th>\n      <td>DT.AMT.BLAT.CD</td>\n    </tr>\n    <tr>\n      <th>1</th>\n      <td>DT.AMT.DLXF.CD</td>\n    </tr>\n    <tr>\n      <th>2</th>\n      <td>DT.AMT.DPNG.CD</td>\n    </tr>\n    <tr>\n      <th>3</th>\n      <td>DT.AMT.MLAT.CD</td>\n    </tr>\n    <tr>\n      <th>4</th>\n      <td>DT.AMT.OFFT.CD</td>\n    </tr>\n    <tr>\n      <th>5</th>\n      <td>DT.AMT.PBND.CD</td>\n    </tr>\n    <tr>\n      <th>6</th>\n      <td>DT.AMT.PCBK.CD</td>\n    </tr>\n    <tr>\n      <th>7</th>\n      <td>DT.AMT.PROP.CD</td>\n    </tr>\n    <tr>\n      <th>8</th>\n      <td>DT.AMT.PRVT.CD</td>\n    </tr>\n    <tr>\n      <th>9</th>\n      <td>DT.DIS.BLAT.CD</td>\n    </tr>\n    <tr>\n      <th>10</th>\n      <td>DT.DIS.DLXF.CD</td>\n    </tr>\n    <tr>\n      <th>11</th>\n      <td>DT.DIS.MLAT.CD</td>\n    </tr>\n    <tr>\n      <th>12</th>\n      <td>DT.DIS.OFFT.CD</td>\n    </tr>\n    <tr>\n      <th>13</th>\n      <td>DT.DIS.PCBK.CD</td>\n    </tr>\n    <tr>\n      <th>14</th>\n      <td>DT.DIS.PROP.CD</td>\n    </tr>\n    <tr>\n      <th>15</th>\n      <td>DT.DIS.PRVT.CD</td>\n    </tr>\n    <tr>\n      <th>16</th>\n      <td>DT.INT.BLAT.CD</td>\n    </tr>\n    <tr>\n      <th>17</th>\n      <td>DT.INT.DLXF.CD</td>\n    </tr>\n    <tr>\n      <th>18</th>\n      <td>DT.INT.DPNG.CD</td>\n    </tr>\n    <tr>\n      <th>19</th>\n      <td>DT.INT.MLAT.CD</td>\n    </tr>\n    <tr>\n      <th>20</th>\n      <td>DT.INT.OFFT.CD</td>\n    </tr>\n    <tr>\n      <th>21</th>\n      <td>DT.INT.PBND.CD</td>\n    </tr>\n    <tr>\n      <th>22</th>\n      <td>DT.INT.PCBK.CD</td>\n    </tr>\n    <tr>\n      <th>23</th>\n      <td>DT.INT.PROP.CD</td>\n    </tr>\n    <tr>\n      <th>24</th>\n      <td>DT.INT.PRVT.CD</td>\n    </tr>\n  </tbody>\n</table>\n</div>"
     },
     "metadata": {},
     "execution_count": 38,
     "@datacamp/metadata": {
      "executedQuery": "--What are the distinct debt indicators\\? The output column should be aliased as distinct_debt_indicators and the outputs should be ordered by it.--\n\nSELECT\n\tDISTINCT(indicator_code) AS distinct_debt_indicators\nFROM\n\tinternational_debt\nORDER BY\n\tdistinct_debt_indicators;",
      "executedQueryParameters": []
     }
    }
   ]
  },
  {
   "source": [
    "--What is the total amount of debt owed by all the countries present in the table, in millions, rounded to two decimals? The output should be single column aliased with the following name: total_debt.--\n",
    "\n",
    "SELECT\n",
    "\tROUND(SUM(debt)/1000000, 2) AS total_debt\n",
    "FROM\n",
    "\tinternational_debt\n"
   ],
   "metadata": {
    "customType": "sql",
    "dataFrameVariableName": "total_debt",
    "sqlCellMode": "dataFrame",
    "sqlSource": {
     "integrationId": "89e17161-a224-4a8a-846b-0adc0fe7a4b1",
     "integrationType": "postgresql",
     "type": "integration"
    },
    "executionCancelledAt": null,
    "executionTime": 802,
    "lastExecutedAt": 1712390235782,
    "lastScheduledRunId": null,
    "lastSuccessfullyExecutedCode": "--What is the total amount of debt owed by all the countries present in the table, in millions, rounded to two decimals? The output should be single column aliased with the following name: total_debt.--\n\nSELECT\n\tROUND(SUM(debt)/1000000, 2) AS total_debt\nFROM\n\tinternational_debt\n",
    "lastExecutedByKernel": "6ec5edc5-1981-4829-b2f3-f89c8344e66e",
    "outputsMetadata": {
     "0": {
      "height": 96,
      "type": "dataFrame"
     }
    }
   },
   "id": "0b55b1e1-9241-40c0-8da9-87ba27a6105b",
   "cell_type": "code",
   "execution_count": 39,
   "outputs": [
    {
     "output_type": "execute_result",
     "data": {
      "application/com.datacamp.data-table.v2+json": {
       "table": {
        "schema": {
         "fields": [
          {
           "name": "index",
           "type": "integer"
          },
          {
           "name": "total_debt",
           "type": "number"
          }
         ],
         "primaryKey": [
          "index"
         ],
         "pandas_version": "1.4.0"
        },
        "data": {
         "index": [
          0
         ],
         "total_debt": [
          3079734.49
         ]
        }
       },
       "total_rows": 1,
       "truncation_type": null
      },
      "text/plain": "   total_debt\n0  3079734.49",
      "text/html": "<div>\n<style scoped>\n    .dataframe tbody tr th:only-of-type {\n        vertical-align: middle;\n    }\n\n    .dataframe tbody tr th {\n        vertical-align: top;\n    }\n\n    .dataframe thead th {\n        text-align: right;\n    }\n</style>\n<table border=\"1\" class=\"dataframe\">\n  <thead>\n    <tr style=\"text-align: right;\">\n      <th></th>\n      <th>total_debt</th>\n    </tr>\n  </thead>\n  <tbody>\n    <tr>\n      <th>0</th>\n      <td>3079734.49</td>\n    </tr>\n  </tbody>\n</table>\n</div>"
     },
     "metadata": {},
     "execution_count": 39,
     "@datacamp/metadata": {
      "executedQuery": "--What is the total amount of debt owed by all the countries present in the table, in millions, rounded to two decimals\\? The output should be single column aliased with the following name: total_debt.--\n\nSELECT\n\tROUND(SUM(debt)/1000000, 2) AS total_debt\nFROM\n\tinternational_debt",
      "executedQueryParameters": []
     }
    }
   ]
  },
  {
   "source": [
    "--What country has the highest amount of debt? Your output should contain two columns: country_name and total_debt.--\n",
    "\n",
    "SELECT\n",
    "\tcountry_name, SUM(debt) AS total_debt\n",
    "FROM\n",
    "\tinternational_debt\n",
    "GROUP BY\n",
    "\tcountry_name\n",
    "ORDER BY\n",
    "\ttotal_debt DESC\n",
    "LIMIT 1;"
   ],
   "metadata": {
    "customType": "sql",
    "dataFrameVariableName": "highest_debt_country",
    "sqlCellMode": "dataFrame",
    "sqlSource": {
     "integrationId": "89e17161-a224-4a8a-846b-0adc0fe7a4b1",
     "integrationType": "postgresql",
     "type": "integration"
    },
    "executionCancelledAt": null,
    "executionTime": 5751,
    "lastExecutedAt": 1712390241533,
    "lastScheduledRunId": null,
    "lastSuccessfullyExecutedCode": "--What country has the highest amount of debt? Your output should contain two columns: country_name and total_debt.--\n\nSELECT\n\tcountry_name, SUM(debt) AS total_debt\nFROM\n\tinternational_debt\nGROUP BY\n\tcountry_name\nORDER BY\n\ttotal_debt DESC\nLIMIT 1;",
    "lastExecutedByKernel": "6ec5edc5-1981-4829-b2f3-f89c8344e66e",
    "outputsMetadata": {
     "0": {
      "height": 96,
      "type": "dataFrame"
     }
    }
   },
   "id": "8b8afd6e-b2eb-4637-a16f-8671b51e7317",
   "cell_type": "code",
   "execution_count": 40,
   "outputs": [
    {
     "output_type": "execute_result",
     "data": {
      "application/com.datacamp.data-table.v2+json": {
       "table": {
        "schema": {
         "fields": [
          {
           "name": "index",
           "type": "integer"
          },
          {
           "name": "country_name",
           "type": "string"
          },
          {
           "name": "total_debt",
           "type": "number"
          }
         ],
         "primaryKey": [
          "index"
         ],
         "pandas_version": "1.4.0"
        },
        "data": {
         "index": [
          0
         ],
         "country_name": [
          "China"
         ],
         "total_debt": [
          2.857934947342E11
         ]
        }
       },
       "total_rows": 1,
       "truncation_type": null
      },
      "text/plain": "  country_name    total_debt\n0        China  2.857935e+11",
      "text/html": "<div>\n<style scoped>\n    .dataframe tbody tr th:only-of-type {\n        vertical-align: middle;\n    }\n\n    .dataframe tbody tr th {\n        vertical-align: top;\n    }\n\n    .dataframe thead th {\n        text-align: right;\n    }\n</style>\n<table border=\"1\" class=\"dataframe\">\n  <thead>\n    <tr style=\"text-align: right;\">\n      <th></th>\n      <th>country_name</th>\n      <th>total_debt</th>\n    </tr>\n  </thead>\n  <tbody>\n    <tr>\n      <th>0</th>\n      <td>China</td>\n      <td>2.857935e+11</td>\n    </tr>\n  </tbody>\n</table>\n</div>"
     },
     "metadata": {},
     "execution_count": 40,
     "@datacamp/metadata": {
      "executedQuery": "--What country has the highest amount of debt\\? Your output should contain two columns: country_name and total_debt.--\n\nSELECT\n\tcountry_name, SUM(debt) AS total_debt\nFROM\n\tinternational_debt\nGROUP BY\n\tcountry_name\nORDER BY\n\ttotal_debt DESC\nLIMIT 1;",
      "executedQueryParameters": []
     }
    }
   ]
  },
  {
   "source": [
    "--What is the average amount of debt across different debt indicators? The output table should contain debt_indicator, indicator_name, and average_debt.--\n",
    "\n",
    "SELECT\n",
    "\tindicator_code AS debt_indicator, indicator_name, AVG(debt) AS average_debt\n",
    "FROM\n",
    "\tinternational_debt\n",
    "GROUP BY\n",
    "\tdebt_indicator, indicator_name\n",
    "ORDER BY\n",
    "\taverage_debt DESC;"
   ],
   "metadata": {
    "customType": "sql",
    "dataFrameVariableName": "avg_debt_per_indicator",
    "sqlCellMode": "dataFrame",
    "sqlSource": {
     "integrationId": "89e17161-a224-4a8a-846b-0adc0fe7a4b1",
     "integrationType": "postgresql",
     "type": "integration"
    },
    "executionCancelledAt": null,
    "executionTime": 618,
    "lastExecutedAt": 1712390242152,
    "lastScheduledRunId": null,
    "lastSuccessfullyExecutedCode": "--What is the average amount of debt across different debt indicators? The output table should contain debt_indicator, indicator_name, and average_debt.--\n\nSELECT\n\tindicator_code AS debt_indicator, indicator_name, AVG(debt) AS average_debt\nFROM\n\tinternational_debt\nGROUP BY\n\tdebt_indicator, indicator_name\nORDER BY\n\taverage_debt DESC;",
    "lastExecutedByKernel": "6ec5edc5-1981-4829-b2f3-f89c8344e66e",
    "outputsMetadata": {
     "0": {
      "height": 349,
      "type": "dataFrame"
     }
    }
   },
   "id": "8df97dba-cc21-4f06-87be-5912658f2f42",
   "cell_type": "code",
   "execution_count": 41,
   "outputs": [
    {
     "output_type": "execute_result",
     "data": {
      "application/com.datacamp.data-table.v2+json": {
       "table": {
        "schema": {
         "fields": [
          {
           "name": "index",
           "type": "integer"
          },
          {
           "name": "debt_indicator",
           "type": "string"
          },
          {
           "name": "indicator_name",
           "type": "string"
          },
          {
           "name": "average_debt",
           "type": "number"
          }
         ],
         "primaryKey": [
          "index"
         ],
         "pandas_version": "1.4.0"
        },
        "data": {
         "index": [
          0,
          1,
          2,
          3,
          4,
          5,
          6,
          7,
          8,
          9,
          10,
          11,
          12,
          13,
          14,
          15,
          16,
          17,
          18,
          19,
          20,
          21,
          22,
          23,
          24
         ],
         "debt_indicator": [
          "DT.AMT.DLXF.CD",
          "DT.AMT.DPNG.CD",
          "DT.DIS.DLXF.CD",
          "DT.DIS.OFFT.CD",
          "DT.AMT.PRVT.CD",
          "DT.INT.DLXF.CD",
          "DT.DIS.BLAT.CD",
          "DT.INT.DPNG.CD",
          "DT.AMT.OFFT.CD",
          "DT.AMT.PBND.CD",
          "DT.DIS.MLAT.CD",
          "DT.INT.PBND.CD",
          "DT.AMT.PROP.CD",
          "DT.AMT.PCBK.CD",
          "DT.INT.PRVT.CD",
          "DT.AMT.BLAT.CD",
          "DT.AMT.MLAT.CD",
          "DT.DIS.PRVT.CD",
          "DT.INT.OFFT.CD",
          "DT.DIS.PCBK.CD",
          "DT.INT.BLAT.CD",
          "DT.INT.PCBK.CD",
          "DT.INT.MLAT.CD",
          "DT.DIS.PROP.CD",
          "DT.INT.PROP.CD"
         ],
         "indicator_name": [
          "Principal repayments on external debt, long-term (AMT, current US$)",
          "Principal repayments on external debt, private nonguaranteed (PNG) (AMT, current US$)",
          "Disbursements on external debt, long-term (DIS, current US$)",
          "PPG, official creditors (DIS, current US$)",
          "PPG, private creditors (AMT, current US$)",
          "Interest payments on external debt, long-term (INT, current US$)",
          "PPG, bilateral (DIS, current US$)",
          "Interest payments on external debt, private nonguaranteed (PNG) (INT, current US$)",
          "PPG, official creditors (AMT, current US$)",
          "PPG, bonds (AMT, current US$)",
          "PPG, multilateral (DIS, current US$)",
          "PPG, bonds (INT, current US$)",
          "PPG, other private creditors (AMT, current US$)",
          "PPG, commercial banks (AMT, current US$)",
          "PPG, private creditors (INT, current US$)",
          "PPG, bilateral (AMT, current US$)",
          "PPG, multilateral (AMT, current US$)",
          "PPG, private creditors (DIS, current US$)",
          "PPG, official creditors (INT, current US$)",
          "PPG, commercial banks (DIS, current US$)",
          "PPG, bilateral (INT, current US$)",
          "PPG, commercial banks (INT, current US$)",
          "PPG, multilateral (INT, current US$)",
          "PPG, other private creditors (DIS, current US$)",
          "PPG, other private creditors (INT, current US$)"
         ],
         "average_debt": [
          5.904868401499193E9,
          5.161194333812657E9,
          2.152041216890244E9,
          1.958983452859836E9,
          1.8036941019632652E9,
          1.6440240676508064E9,
          1.22313929039823E9,
          1.2204108444215188E9,
          1.1911879630830643E9,
          1.082623947653623E9,
          8.398436786158333E8,
          8.047333765985507E8,
          7.468888004777777E8,
          7.348687426011904E8,
          7.197401800887755E8,
          7.12619634659836E8,
          4.900621934983871E8,
          3.1132326469056606E8,
          2.976773389572581E8,
          2.9330519559411764E8,
          1.640932856090164E8,
          1.5664761305595237E8,
          1.3623071924516127E8,
          8.11351607E7,
          3.425065123518518E7
         ]
        }
       },
       "total_rows": 25,
       "truncation_type": null
      },
      "text/plain": "    debt_indicator  ...  average_debt\n0   DT.AMT.DLXF.CD  ...  5.904868e+09\n1   DT.AMT.DPNG.CD  ...  5.161194e+09\n2   DT.DIS.DLXF.CD  ...  2.152041e+09\n3   DT.DIS.OFFT.CD  ...  1.958983e+09\n4   DT.AMT.PRVT.CD  ...  1.803694e+09\n5   DT.INT.DLXF.CD  ...  1.644024e+09\n6   DT.DIS.BLAT.CD  ...  1.223139e+09\n7   DT.INT.DPNG.CD  ...  1.220411e+09\n8   DT.AMT.OFFT.CD  ...  1.191188e+09\n9   DT.AMT.PBND.CD  ...  1.082624e+09\n10  DT.DIS.MLAT.CD  ...  8.398437e+08\n11  DT.INT.PBND.CD  ...  8.047334e+08\n12  DT.AMT.PROP.CD  ...  7.468888e+08\n13  DT.AMT.PCBK.CD  ...  7.348687e+08\n14  DT.INT.PRVT.CD  ...  7.197402e+08\n15  DT.AMT.BLAT.CD  ...  7.126196e+08\n16  DT.AMT.MLAT.CD  ...  4.900622e+08\n17  DT.DIS.PRVT.CD  ...  3.113233e+08\n18  DT.INT.OFFT.CD  ...  2.976773e+08\n19  DT.DIS.PCBK.CD  ...  2.933052e+08\n20  DT.INT.BLAT.CD  ...  1.640933e+08\n21  DT.INT.PCBK.CD  ...  1.566476e+08\n22  DT.INT.MLAT.CD  ...  1.362307e+08\n23  DT.DIS.PROP.CD  ...  8.113516e+07\n24  DT.INT.PROP.CD  ...  3.425065e+07\n\n[25 rows x 3 columns]",
      "text/html": "<div>\n<style scoped>\n    .dataframe tbody tr th:only-of-type {\n        vertical-align: middle;\n    }\n\n    .dataframe tbody tr th {\n        vertical-align: top;\n    }\n\n    .dataframe thead th {\n        text-align: right;\n    }\n</style>\n<table border=\"1\" class=\"dataframe\">\n  <thead>\n    <tr style=\"text-align: right;\">\n      <th></th>\n      <th>debt_indicator</th>\n      <th>indicator_name</th>\n      <th>average_debt</th>\n    </tr>\n  </thead>\n  <tbody>\n    <tr>\n      <th>0</th>\n      <td>DT.AMT.DLXF.CD</td>\n      <td>Principal repayments on external debt, long-te...</td>\n      <td>5.904868e+09</td>\n    </tr>\n    <tr>\n      <th>1</th>\n      <td>DT.AMT.DPNG.CD</td>\n      <td>Principal repayments on external debt, private...</td>\n      <td>5.161194e+09</td>\n    </tr>\n    <tr>\n      <th>2</th>\n      <td>DT.DIS.DLXF.CD</td>\n      <td>Disbursements on external debt, long-term (DIS...</td>\n      <td>2.152041e+09</td>\n    </tr>\n    <tr>\n      <th>3</th>\n      <td>DT.DIS.OFFT.CD</td>\n      <td>PPG, official creditors (DIS, current US$)</td>\n      <td>1.958983e+09</td>\n    </tr>\n    <tr>\n      <th>4</th>\n      <td>DT.AMT.PRVT.CD</td>\n      <td>PPG, private creditors (AMT, current US$)</td>\n      <td>1.803694e+09</td>\n    </tr>\n    <tr>\n      <th>5</th>\n      <td>DT.INT.DLXF.CD</td>\n      <td>Interest payments on external debt, long-term ...</td>\n      <td>1.644024e+09</td>\n    </tr>\n    <tr>\n      <th>6</th>\n      <td>DT.DIS.BLAT.CD</td>\n      <td>PPG, bilateral (DIS, current US$)</td>\n      <td>1.223139e+09</td>\n    </tr>\n    <tr>\n      <th>7</th>\n      <td>DT.INT.DPNG.CD</td>\n      <td>Interest payments on external debt, private no...</td>\n      <td>1.220411e+09</td>\n    </tr>\n    <tr>\n      <th>8</th>\n      <td>DT.AMT.OFFT.CD</td>\n      <td>PPG, official creditors (AMT, current US$)</td>\n      <td>1.191188e+09</td>\n    </tr>\n    <tr>\n      <th>9</th>\n      <td>DT.AMT.PBND.CD</td>\n      <td>PPG, bonds (AMT, current US$)</td>\n      <td>1.082624e+09</td>\n    </tr>\n    <tr>\n      <th>10</th>\n      <td>DT.DIS.MLAT.CD</td>\n      <td>PPG, multilateral (DIS, current US$)</td>\n      <td>8.398437e+08</td>\n    </tr>\n    <tr>\n      <th>11</th>\n      <td>DT.INT.PBND.CD</td>\n      <td>PPG, bonds (INT, current US$)</td>\n      <td>8.047334e+08</td>\n    </tr>\n    <tr>\n      <th>12</th>\n      <td>DT.AMT.PROP.CD</td>\n      <td>PPG, other private creditors (AMT, current US$)</td>\n      <td>7.468888e+08</td>\n    </tr>\n    <tr>\n      <th>13</th>\n      <td>DT.AMT.PCBK.CD</td>\n      <td>PPG, commercial banks (AMT, current US$)</td>\n      <td>7.348687e+08</td>\n    </tr>\n    <tr>\n      <th>14</th>\n      <td>DT.INT.PRVT.CD</td>\n      <td>PPG, private creditors (INT, current US$)</td>\n      <td>7.197402e+08</td>\n    </tr>\n    <tr>\n      <th>15</th>\n      <td>DT.AMT.BLAT.CD</td>\n      <td>PPG, bilateral (AMT, current US$)</td>\n      <td>7.126196e+08</td>\n    </tr>\n    <tr>\n      <th>16</th>\n      <td>DT.AMT.MLAT.CD</td>\n      <td>PPG, multilateral (AMT, current US$)</td>\n      <td>4.900622e+08</td>\n    </tr>\n    <tr>\n      <th>17</th>\n      <td>DT.DIS.PRVT.CD</td>\n      <td>PPG, private creditors (DIS, current US$)</td>\n      <td>3.113233e+08</td>\n    </tr>\n    <tr>\n      <th>18</th>\n      <td>DT.INT.OFFT.CD</td>\n      <td>PPG, official creditors (INT, current US$)</td>\n      <td>2.976773e+08</td>\n    </tr>\n    <tr>\n      <th>19</th>\n      <td>DT.DIS.PCBK.CD</td>\n      <td>PPG, commercial banks (DIS, current US$)</td>\n      <td>2.933052e+08</td>\n    </tr>\n    <tr>\n      <th>20</th>\n      <td>DT.INT.BLAT.CD</td>\n      <td>PPG, bilateral (INT, current US$)</td>\n      <td>1.640933e+08</td>\n    </tr>\n    <tr>\n      <th>21</th>\n      <td>DT.INT.PCBK.CD</td>\n      <td>PPG, commercial banks (INT, current US$)</td>\n      <td>1.566476e+08</td>\n    </tr>\n    <tr>\n      <th>22</th>\n      <td>DT.INT.MLAT.CD</td>\n      <td>PPG, multilateral (INT, current US$)</td>\n      <td>1.362307e+08</td>\n    </tr>\n    <tr>\n      <th>23</th>\n      <td>DT.DIS.PROP.CD</td>\n      <td>PPG, other private creditors (DIS, current US$)</td>\n      <td>8.113516e+07</td>\n    </tr>\n    <tr>\n      <th>24</th>\n      <td>DT.INT.PROP.CD</td>\n      <td>PPG, other private creditors (INT, current US$)</td>\n      <td>3.425065e+07</td>\n    </tr>\n  </tbody>\n</table>\n</div>"
     },
     "metadata": {},
     "execution_count": 41,
     "@datacamp/metadata": {
      "executedQuery": "--What is the average amount of debt across different debt indicators\\? The output table should contain debt_indicator, indicator_name, and average_debt.--\n\nSELECT\n\tindicator_code AS debt_indicator, indicator_name, AVG(debt) AS average_debt\nFROM\n\tinternational_debt\nGROUP BY\n\tdebt_indicator, indicator_name\nORDER BY\n\taverage_debt DESC;",
      "executedQueryParameters": []
     }
    }
   ]
  },
  {
   "source": [
    "--What country has the highest amount of principal repayments in the \"DT.AMT.DLXF.CD\" category? The output table should contain two columns: country_name and indicator_name.--\n",
    "\n",
    "SELECT\n",
    "\tcountry_name, indicator_name\n",
    "FROM\n",
    "\tinternational_debt\n",
    "WHERE \n",
    "\tinternational_debt.debt = (SELECT\n",
    "\t\t\t\t\t\t\t   MAX(debt) \n",
    "\t\t\t\t\t\t\t   FROM \n",
    "\t\t\t\t\t\t\t   international_debt\n",
    "\t\t\t\t\t\t\t   WHERE international_debt.indicator_code = 'DT.AMT.DLXF.CD');\n"
   ],
   "metadata": {
    "customType": "sql",
    "dataFrameVariableName": "highest_principal_repayment",
    "sqlCellMode": "dataFrame",
    "sqlSource": {
     "integrationId": "89e17161-a224-4a8a-846b-0adc0fe7a4b1",
     "integrationType": "postgresql",
     "type": "integration"
    },
    "executionCancelledAt": null,
    "executionTime": 626,
    "lastExecutedAt": 1712390242778,
    "lastScheduledRunId": null,
    "lastSuccessfullyExecutedCode": "--What country has the highest amount of principal repayments in the \"DT.AMT.DLXF.CD\" category? The output table should contain two columns: country_name and indicator_name.--\n\nSELECT\n\tcountry_name, indicator_name\nFROM\n\tinternational_debt\nWHERE \n\tinternational_debt.debt = (SELECT\n\t\t\t\t\t\t\t   MAX(debt) \n\t\t\t\t\t\t\t   FROM \n\t\t\t\t\t\t\t   international_debt\n\t\t\t\t\t\t\t   WHERE international_debt.indicator_code = 'DT.AMT.DLXF.CD');\n",
    "lastExecutedByKernel": "6ec5edc5-1981-4829-b2f3-f89c8344e66e",
    "outputsMetadata": {
     "0": {
      "height": 96,
      "type": "dataFrame"
     }
    }
   },
   "id": "1cdf2f88-7aa0-4702-8422-84098b742be4",
   "cell_type": "code",
   "execution_count": 42,
   "outputs": [
    {
     "output_type": "execute_result",
     "data": {
      "application/com.datacamp.data-table.v2+json": {
       "table": {
        "schema": {
         "fields": [
          {
           "name": "index",
           "type": "integer"
          },
          {
           "name": "country_name",
           "type": "string"
          },
          {
           "name": "indicator_name",
           "type": "string"
          }
         ],
         "primaryKey": [
          "index"
         ],
         "pandas_version": "1.4.0"
        },
        "data": {
         "index": [
          0
         ],
         "country_name": [
          "China"
         ],
         "indicator_name": [
          "Principal repayments on external debt, long-term (AMT, current US$)"
         ]
        }
       },
       "total_rows": 1,
       "truncation_type": null
      },
      "text/plain": "  country_name                                     indicator_name\n0        China  Principal repayments on external debt, long-te...",
      "text/html": "<div>\n<style scoped>\n    .dataframe tbody tr th:only-of-type {\n        vertical-align: middle;\n    }\n\n    .dataframe tbody tr th {\n        vertical-align: top;\n    }\n\n    .dataframe thead th {\n        text-align: right;\n    }\n</style>\n<table border=\"1\" class=\"dataframe\">\n  <thead>\n    <tr style=\"text-align: right;\">\n      <th></th>\n      <th>country_name</th>\n      <th>indicator_name</th>\n    </tr>\n  </thead>\n  <tbody>\n    <tr>\n      <th>0</th>\n      <td>China</td>\n      <td>Principal repayments on external debt, long-te...</td>\n    </tr>\n  </tbody>\n</table>\n</div>"
     },
     "metadata": {},
     "execution_count": 42,
     "@datacamp/metadata": {
      "executedQuery": "--What country has the highest amount of principal repayments in the \"DT.AMT.DLXF.CD\" category\\? The output table should contain two columns: country_name and indicator_name.--\n\nSELECT\n\tcountry_name, indicator_name\nFROM\n\tinternational_debt\nWHERE \n\tinternational_debt.debt = (SELECT\n\t\t\t\t\t\t\t   MAX(debt) \n\t\t\t\t\t\t\t   FROM \n\t\t\t\t\t\t\t   international_debt\n\t\t\t\t\t\t\t   WHERE international_debt.indicator_code = 'DT.AMT.DLXF.CD');",
      "executedQueryParameters": []
     }
    }
   ]
  }
 ],
 "metadata": {
  "colab": {
   "name": "Welcome to DataCamp Workspaces.ipynb",
   "provenance": []
  },
  "kernelspec": {
   "display_name": "Python 3 (ipykernel)",
   "language": "python",
   "name": "python3"
  },
  "language_info": {
   "codemirror_mode": {
    "name": "ipython",
    "version": 3
   },
   "file_extension": ".py",
   "mimetype": "text/x-python",
   "name": "python",
   "nbconvert_exporter": "python",
   "pygments_lexer": "ipython3",
   "version": "3.8.10"
  }
 },
 "nbformat": 4,
 "nbformat_minor": 5
}
